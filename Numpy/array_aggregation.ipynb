{
 "cells": [
  {
   "cell_type": "code",
   "execution_count": 2,
   "id": "a77a1d68",
   "metadata": {},
   "outputs": [
    {
     "data": {
      "text/plain": [
       "array([3.97, 8.66, 4.6 , 3.06, 5.74, 0.89, 8.82, 7.32, 7.32, 5.62])"
      ]
     },
     "execution_count": 2,
     "metadata": {},
     "output_type": "execute_result"
    }
   ],
   "source": [
    "import numpy as np\n",
    "\n",
    "rng = np.random.default_rng(616)\n",
    "\n",
    "price = (rng.random(10) * 10).round(2)\n",
    "\n",
    "price"
   ]
  },
  {
   "cell_type": "code",
   "execution_count": null,
   "id": "6843d7b8",
   "metadata": {},
   "outputs": [],
   "source": [
    "# array.mean() returns the average of the values in an array(ortalam)\n",
    "# sales_array.sum() returns the sum of all values in an array(toplama)\n",
    "# array.max() returns the largest value in an array(en büyüğünü seçme)\n",
    "# array.min() minimum"
   ]
  },
  {
   "cell_type": "code",
   "execution_count": null,
   "id": "3ba672ea",
   "metadata": {},
   "outputs": [],
   "source": [
    "# array.sum() returns the sum of all values in an array (hepsini toplar)\n",
    "# array.sum(axis=0) aggregates across rows (düzlemdekileri toplar)\n",
    "# array.sum(axis=1) ayrı ayrı toplar"
   ]
  },
  {
   "cell_type": "code",
   "execution_count": 3,
   "id": "bbacad97",
   "metadata": {},
   "outputs": [
    {
     "data": {
      "text/plain": [
       "array([80, 33, 60,  6, 31, 35, 16, 20, 29, 43], dtype=int64)"
      ]
     },
     "execution_count": 3,
     "metadata": {},
     "output_type": "execute_result"
    }
   ],
   "source": [
    "inventory = rng.integers(0, 100, 10)\n",
    "inventory"
   ]
  },
  {
   "cell_type": "code",
   "execution_count": 4,
   "id": "01391a6f",
   "metadata": {},
   "outputs": [
    {
     "data": {
      "text/plain": [
       "5.6"
      ]
     },
     "execution_count": 4,
     "metadata": {},
     "output_type": "execute_result"
    }
   ],
   "source": [
    "price.mean()"
   ]
  },
  {
   "cell_type": "code",
   "execution_count": 5,
   "id": "50e89634",
   "metadata": {},
   "outputs": [
    {
     "data": {
      "text/plain": [
       "35.3"
      ]
     },
     "execution_count": 5,
     "metadata": {},
     "output_type": "execute_result"
    }
   ],
   "source": [
    "inventory.mean()"
   ]
  },
  {
   "cell_type": "code",
   "execution_count": 6,
   "id": "de89a9bd",
   "metadata": {},
   "outputs": [
    {
     "data": {
      "text/plain": [
       "353"
      ]
     },
     "execution_count": 6,
     "metadata": {},
     "output_type": "execute_result"
    }
   ],
   "source": [
    "inventory.sum()"
   ]
  },
  {
   "cell_type": "code",
   "execution_count": 7,
   "id": "bcd29c4a",
   "metadata": {},
   "outputs": [
    {
     "data": {
      "text/plain": [
       "20.48438429633656"
      ]
     },
     "execution_count": 7,
     "metadata": {},
     "output_type": "execute_result"
    }
   ],
   "source": [
    "inventory.std() #standart sapması"
   ]
  },
  {
   "cell_type": "code",
   "execution_count": 12,
   "id": "05cf008c",
   "metadata": {},
   "outputs": [
    {
     "data": {
      "text/plain": [
       "0"
      ]
     },
     "execution_count": 12,
     "metadata": {},
     "output_type": "execute_result"
    }
   ],
   "source": [
    "(price * inventory).argmax() # bir hedef işlevden maksimum değeri veren bağımsız değişkeni bulan bir işlemdir."
   ]
  },
  {
   "cell_type": "code",
   "execution_count": 13,
   "id": "b281afcd",
   "metadata": {},
   "outputs": [],
   "source": [
    "price_2d = price.reshape(5, 2)"
   ]
  },
  {
   "cell_type": "code",
   "execution_count": 14,
   "id": "d04eafad",
   "metadata": {},
   "outputs": [
    {
     "data": {
      "text/plain": [
       "array([[3.97, 8.66],\n",
       "       [4.6 , 3.06],\n",
       "       [5.74, 0.89],\n",
       "       [8.82, 7.32],\n",
       "       [7.32, 5.62]])"
      ]
     },
     "execution_count": 14,
     "metadata": {},
     "output_type": "execute_result"
    }
   ],
   "source": [
    "price_2d"
   ]
  },
  {
   "cell_type": "code",
   "execution_count": 16,
   "id": "91f09a02",
   "metadata": {},
   "outputs": [
    {
     "data": {
      "text/plain": [
       "array([6.09, 5.11])"
      ]
     },
     "execution_count": 16,
     "metadata": {},
     "output_type": "execute_result"
    }
   ],
   "source": [
    "price_2d.mean(axis=0)"
   ]
  },
  {
   "cell_type": "code",
   "execution_count": null,
   "id": "35e807a3",
   "metadata": {},
   "outputs": [],
   "source": []
  }
 ],
 "metadata": {
  "kernelspec": {
   "display_name": "Python 3 (ipykernel)",
   "language": "python",
   "name": "python3"
  },
  "language_info": {
   "codemirror_mode": {
    "name": "ipython",
    "version": 3
   },
   "file_extension": ".py",
   "mimetype": "text/x-python",
   "name": "python",
   "nbconvert_exporter": "python",
   "pygments_lexer": "ipython3",
   "version": "3.10.9"
  }
 },
 "nbformat": 4,
 "nbformat_minor": 5
}
