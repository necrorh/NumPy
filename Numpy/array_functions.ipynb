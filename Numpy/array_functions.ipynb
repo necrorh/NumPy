{
 "cells": [
  {
   "cell_type": "code",
   "execution_count": 1,
   "id": "dab77614",
   "metadata": {},
   "outputs": [],
   "source": [
    "import numpy as np"
   ]
  },
  {
   "cell_type": "code",
   "execution_count": null,
   "id": "be736262",
   "metadata": {},
   "outputs": [],
   "source": [
    "# np.median(array) # returns the median value in an array\n",
    "# np.percentile(array, n) returns a value in the n'th percentile in array\n",
    "# np.sqrt(array) returns the square root of each value in an array"
   ]
  },
  {
   "cell_type": "code",
   "execution_count": 8,
   "id": "09450b35",
   "metadata": {
    "scrolled": true
   },
   "outputs": [
    {
     "data": {
      "text/plain": [
       "array([205.4 , 158.4 , 138.4 , 186.24,   6.24, 202.92, 106.44,   3.68,\n",
       "        26.15, 403.2 ])"
      ]
     },
     "execution_count": 8,
     "metadata": {},
     "output_type": "execute_result"
    }
   ],
   "source": [
    "price = np.array([2.6 , 7.2 , 6.92 , 3.88 , 0.78 , 2.67 , 8.87 , 0.23 , 5.23 , 6.3])\n",
    "\n",
    "inventory = np.array([79, 22, 20, 48, 8, 76, 12, 16, 5, 64])\n",
    "\n",
    "product_value = price * inventory\n",
    "\n",
    "product_value "
   ]
  },
  {
   "cell_type": "code",
   "execution_count": 15,
   "id": "68f38c99",
   "metadata": {},
   "outputs": [
    {
     "data": {
      "text/plain": [
       "array([  3.68,   6.24,  26.15, 106.44, 138.4 , 158.4 , 186.24, 202.92,\n",
       "       205.4 , 403.2 ])"
      ]
     },
     "execution_count": 15,
     "metadata": {},
     "output_type": "execute_result"
    }
   ],
   "source": [
    "product_value.sort()\n",
    "\n",
    "product_value"
   ]
  },
  {
   "cell_type": "code",
   "execution_count": 13,
   "id": "6cd16caf",
   "metadata": {},
   "outputs": [
    {
     "data": {
      "text/plain": [
       "array([[205.4 , 158.4 , 138.4 , 186.24,   6.24],\n",
       "       [202.92, 106.44,   3.68,  26.15, 403.2 ]])"
      ]
     },
     "execution_count": 13,
     "metadata": {},
     "output_type": "execute_result"
    }
   ],
   "source": [
    "reshaped_product_value = product_value.reshape(2, 5)\n",
    "\n",
    "reshaped_product_value "
   ]
  },
  {
   "cell_type": "code",
   "execution_count": 14,
   "id": "738b0947",
   "metadata": {},
   "outputs": [
    {
     "data": {
      "text/plain": [
       "148.4"
      ]
     },
     "execution_count": 14,
     "metadata": {},
     "output_type": "execute_result"
    }
   ],
   "source": [
    "np.median(reshaped_product_value) # 138.4+158.4/2"
   ]
  },
  {
   "cell_type": "code",
   "execution_count": 18,
   "id": "1c9a68d4",
   "metadata": {},
   "outputs": [
    {
     "data": {
      "text/plain": [
       "5.984"
      ]
     },
     "execution_count": 18,
     "metadata": {},
     "output_type": "execute_result"
    }
   ],
   "source": [
    "np.percentile(reshaped_product_value, 10)"
   ]
  },
  {
   "cell_type": "code",
   "execution_count": 19,
   "id": "fa9f8366",
   "metadata": {},
   "outputs": [
    {
     "data": {
      "text/plain": [
       "array([[ 1.91833261,  2.4979992 ,  5.11370707, 10.3169763 , 11.76435294],\n",
       "       [12.58570618, 13.64697769, 14.24499912, 14.33178286, 20.07984064]])"
      ]
     },
     "execution_count": 19,
     "metadata": {},
     "output_type": "execute_result"
    }
   ],
   "source": [
    "np.sqrt(reshaped_product_value) #karesini almadan önceki hali"
   ]
  },
  {
   "cell_type": "code",
   "execution_count": 20,
   "id": "d6dd11c0",
   "metadata": {},
   "outputs": [
    {
     "data": {
      "text/plain": [
       "array([  3.68,   6.24,  26.15, 106.44, 138.4 , 158.4 , 186.24, 202.92,\n",
       "       205.4 , 403.2 ])"
      ]
     },
     "execution_count": 20,
     "metadata": {},
     "output_type": "execute_result"
    }
   ],
   "source": [
    "np.unique(reshaped_product_value)"
   ]
  },
  {
   "cell_type": "code",
   "execution_count": 21,
   "id": "3f638e0c",
   "metadata": {},
   "outputs": [
    {
     "data": {
      "text/plain": [
       "array([1.])"
      ]
     },
     "execution_count": 21,
     "metadata": {},
     "output_type": "execute_result"
    }
   ],
   "source": [
    "np.unique(np.ones(100))"
   ]
  },
  {
   "cell_type": "code",
   "execution_count": null,
   "id": "3ac1964a",
   "metadata": {},
   "outputs": [],
   "source": []
  }
 ],
 "metadata": {
  "kernelspec": {
   "display_name": "Python 3 (ipykernel)",
   "language": "python",
   "name": "python3"
  },
  "language_info": {
   "codemirror_mode": {
    "name": "ipython",
    "version": 3
   },
   "file_extension": ".py",
   "mimetype": "text/x-python",
   "name": "python",
   "nbconvert_exporter": "python",
   "pygments_lexer": "ipython3",
   "version": "3.10.9"
  }
 },
 "nbformat": 4,
 "nbformat_minor": 5
}
