{
 "cells": [
  {
   "cell_type": "code",
   "execution_count": 1,
   "id": "efafb51f",
   "metadata": {},
   "outputs": [],
   "source": [
    "import numpy as np"
   ]
  },
  {
   "cell_type": "code",
   "execution_count": 4,
   "id": "b5facde8",
   "metadata": {},
   "outputs": [
    {
     "data": {
      "text/plain": [
       "array([0.39682145, 0.86568572, 0.46040359, 0.30599848, 0.57381588,\n",
       "       0.08888468, 0.88194347, 0.73228387, 0.73215182, 0.56233394,\n",
       "       0.33966929, 0.062511  , 0.35706816, 0.20250319, 0.4305179 ,\n",
       "       0.1033163 , 0.52396562, 0.80203893, 0.07529808, 0.15143375,\n",
       "       0.89684192, 0.66336909, 0.72612724, 0.76560278, 0.02961401,\n",
       "       0.77821778, 0.96179431, 0.18988288, 0.16903606, 0.47431033,\n",
       "       0.59182385, 0.42537177, 0.82177265, 0.38023964, 0.02154055,\n",
       "       0.98150375, 0.54986705, 0.50866454, 0.22631697, 0.01686436,\n",
       "       0.8520208 , 0.89723864, 0.80578865, 0.90879236, 0.37141849,\n",
       "       0.41116148, 0.29953469, 0.35593281, 0.37394491, 0.03692463])"
      ]
     },
     "execution_count": 4,
     "metadata": {},
     "output_type": "execute_result"
    }
   ],
   "source": [
    "rng = np.random.default_rng(616)\n",
    "\n",
    "rng.random(50)"
   ]
  },
  {
   "cell_type": "code",
   "execution_count": 5,
   "id": "2358310a",
   "metadata": {},
   "outputs": [
    {
     "data": {
      "text/plain": [
       "array([0, 4, 9, 5, 4, 1, 8, 2, 7, 7, 1, 2, 2, 4, 1, 6, 7, 3, 7, 5, 9, 8,\n",
       "       7, 5, 0, 5, 6, 9, 2, 1, 1, 6, 8, 4, 7, 5, 8, 2, 8, 3, 3, 9, 6, 0,\n",
       "       1, 3, 1, 7, 5, 3, 7, 2, 2, 4, 0, 7, 1, 1, 0, 6, 1, 2, 8, 7, 4, 6,\n",
       "       2, 3, 3, 0, 2, 2, 4, 8, 0, 0, 4, 5, 8, 6, 8, 1, 3, 5, 5, 5, 7, 0,\n",
       "       0, 6, 9, 9, 0, 8, 5, 3, 3, 6, 2, 6], dtype=int64)"
      ]
     },
     "execution_count": 5,
     "metadata": {},
     "output_type": "execute_result"
    }
   ],
   "source": [
    "rng.integers(0, 10, 100)"
   ]
  },
  {
   "cell_type": "code",
   "execution_count": 6,
   "id": "3151a93c",
   "metadata": {},
   "outputs": [
    {
     "data": {
      "text/plain": [
       "array([42.13950534, 52.14619496, 54.22875965, 44.8339284 , 47.78071839,\n",
       "       52.00105724, 45.10265766, 54.64293619, 53.45816403, 56.00220058])"
      ]
     },
     "execution_count": 6,
     "metadata": {},
     "output_type": "execute_result"
    }
   ],
   "source": [
    "rng.normal(50, 5, 10)"
   ]
  },
  {
   "cell_type": "code",
   "execution_count": null,
   "id": "1a68cecb",
   "metadata": {},
   "outputs": [],
   "source": []
  }
 ],
 "metadata": {
  "kernelspec": {
   "display_name": "Python 3 (ipykernel)",
   "language": "python",
   "name": "python3"
  },
  "language_info": {
   "codemirror_mode": {
    "name": "ipython",
    "version": 3
   },
   "file_extension": ".py",
   "mimetype": "text/x-python",
   "name": "python",
   "nbconvert_exporter": "python",
   "pygments_lexer": "ipython3",
   "version": "3.10.9"
  }
 },
 "nbformat": 4,
 "nbformat_minor": 5
}
