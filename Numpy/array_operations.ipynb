{
 "cells": [
  {
   "cell_type": "code",
   "execution_count": 34,
   "id": "ad4db8e8",
   "metadata": {},
   "outputs": [
    {
     "data": {
      "text/plain": [
       "array([39, 39, 93, 86, 48, 46, 48, 30, 11, 57], dtype=int64)"
      ]
     },
     "execution_count": 34,
     "metadata": {},
     "output_type": "execute_result"
    }
   ],
   "source": [
    "import numpy as np\n",
    "\n",
    "rng = np.random.default_rng(616)\n",
    "\n",
    "inventory = rng.integers(0, 100, 10)\n",
    "\n",
    "inventory"
   ]
  },
  {
   "cell_type": "code",
   "execution_count": 35,
   "id": "f9e22d32",
   "metadata": {},
   "outputs": [
    {
     "data": {
      "text/plain": [
       "array([ 15,  15,  69,  62,  24,  22,  24,   6, -13,  33], dtype=int64)"
      ]
     },
     "execution_count": 35,
     "metadata": {},
     "output_type": "execute_result"
    }
   ],
   "source": [
    "inventory - 24 "
   ]
  },
  {
   "cell_type": "code",
   "execution_count": 36,
   "id": "fc67c331",
   "metadata": {},
   "outputs": [
    {
     "data": {
      "text/plain": [
       "dtype('float64')"
      ]
     },
     "execution_count": 36,
     "metadata": {},
     "output_type": "execute_result"
    }
   ],
   "source": [
    "(inventory / 2).dtype"
   ]
  },
  {
   "cell_type": "code",
   "execution_count": 37,
   "id": "b6d47f0d",
   "metadata": {},
   "outputs": [
    {
     "data": {
      "text/plain": [
       "array([0.89, 8.82, 7.32, 7.32, 5.62, 3.4 , 0.63, 3.57, 2.03, 4.31])"
      ]
     },
     "execution_count": 37,
     "metadata": {},
     "output_type": "execute_result"
    }
   ],
   "source": [
    "price = (rng.random(10) * 10).round(2)\n",
    "\n",
    "price"
   ]
  },
  {
   "cell_type": "code",
   "execution_count": 38,
   "id": "b42ae839",
   "metadata": {},
   "outputs": [
    {
     "data": {
      "text/plain": [
       "2520.4700000000003"
      ]
     },
     "execution_count": 38,
     "metadata": {},
     "output_type": "execute_result"
    }
   ],
   "source": [
    "(price * inventory).sum()"
   ]
  },
  {
   "cell_type": "code",
   "execution_count": 39,
   "id": "f01e093a",
   "metadata": {},
   "outputs": [],
   "source": [
    "inventory_list = list(inventory)"
   ]
  },
  {
   "cell_type": "code",
   "execution_count": 40,
   "id": "e5b6cdee",
   "metadata": {},
   "outputs": [
    {
     "data": {
      "text/plain": [
       "[39, 39, 93, 86, 48, 46, 48, 30, 11, 57]"
      ]
     },
     "execution_count": 40,
     "metadata": {},
     "output_type": "execute_result"
    }
   ],
   "source": [
    "inventory_list"
   ]
  },
  {
   "cell_type": "code",
   "execution_count": 44,
   "id": "119cbf67",
   "metadata": {},
   "outputs": [
    {
     "data": {
      "text/plain": [
       "[41, 41, 95, 88, 50, 48, 50, 32, 13, 59]"
      ]
     },
     "execution_count": 44,
     "metadata": {},
     "output_type": "execute_result"
    }
   ],
   "source": [
    "new_inventory = []\n",
    "\n",
    "for x in inventory_list:\n",
    "    new_inventory.append(x + 2)\n",
    "\n",
    "new_inventory"
   ]
  },
  {
   "cell_type": "code",
   "execution_count": 48,
   "id": "a2efb1b0",
   "metadata": {},
   "outputs": [
    {
     "data": {
      "text/plain": [
       "[41, 41, 95, 88, 50, 48, 50, 32, 13, 59]"
      ]
     },
     "execution_count": 48,
     "metadata": {},
     "output_type": "execute_result"
    }
   ],
   "source": [
    "[x + 2 for x in inventory_list]"
   ]
  },
  {
   "cell_type": "code",
   "execution_count": 50,
   "id": "57b72a5e",
   "metadata": {},
   "outputs": [
    {
     "data": {
      "text/plain": [
       "[34.71,\n",
       " 343.98,\n",
       " 680.76,\n",
       " 629.52,\n",
       " 269.76,\n",
       " 156.4,\n",
       " 30.240000000000002,\n",
       " 107.1,\n",
       " 22.33,\n",
       " 245.67]"
      ]
     },
     "execution_count": 50,
     "metadata": {},
     "output_type": "execute_result"
    }
   ],
   "source": [
    "[x * y for x, y in zip(inventory_list, price)]"
   ]
  },
  {
   "cell_type": "code",
   "execution_count": null,
   "id": "55b4d64b",
   "metadata": {},
   "outputs": [],
   "source": []
  }
 ],
 "metadata": {
  "kernelspec": {
   "display_name": "Python 3 (ipykernel)",
   "language": "python",
   "name": "python3"
  },
  "language_info": {
   "codemirror_mode": {
    "name": "ipython",
    "version": 3
   },
   "file_extension": ".py",
   "mimetype": "text/x-python",
   "name": "python",
   "nbconvert_exporter": "python",
   "pygments_lexer": "ipython3",
   "version": "3.10.9"
  }
 },
 "nbformat": 4,
 "nbformat_minor": 5
}
