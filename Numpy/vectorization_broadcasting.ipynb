{
 "cells": [
  {
   "cell_type": "code",
   "execution_count": 1,
   "id": "642b9d2d",
   "metadata": {},
   "outputs": [],
   "source": [
    "import numpy as np"
   ]
  },
  {
   "cell_type": "code",
   "execution_count": null,
   "id": "1ae9085b",
   "metadata": {},
   "outputs": [],
   "source": [
    "# vectorization is the process of pushing array operations into optimized C code\n",
    "# use vectorized operations whenever possible when manipulating data and avoid writing loops\n",
    "\n",
    "# broadcasting lets you perform vectorized operations with arrays of different sizes where numpy will expand the smaller array to fit the larger one\n",
    "# single values(scalars) can be broadcast into arrays of any dimension\n",
    "\n",
    "# single values can be broadcast into arrays of any dimension\n",
    "# dimensions with a length greater than one must be the same size "
   ]
  }
 ],
 "metadata": {
  "kernelspec": {
   "display_name": "Python 3 (ipykernel)",
   "language": "python",
   "name": "python3"
  },
  "language_info": {
   "codemirror_mode": {
    "name": "ipython",
    "version": 3
   },
   "file_extension": ".py",
   "mimetype": "text/x-python",
   "name": "python",
   "nbconvert_exporter": "python",
   "pygments_lexer": "ipython3",
   "version": "3.10.9"
  }
 },
 "nbformat": 4,
 "nbformat_minor": 5
}
